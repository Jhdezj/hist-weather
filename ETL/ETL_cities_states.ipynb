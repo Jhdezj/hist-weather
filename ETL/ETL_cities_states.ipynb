{
 "cells": [
  {
   "cell_type": "markdown",
   "metadata": {},
   "source": [
    "# **ETL**"
   ]
  },
  {
   "cell_type": "code",
   "execution_count": 2,
   "metadata": {},
   "outputs": [],
   "source": [
    "# Main libraries\n",
    "\n",
    "import requests \n",
    "import os \n",
    "import pandas as pd  \n",
    "import numpy as np\n",
    "import sqlalchemy\n",
    "from sqlalchemy import create_engine"
   ]
  },
  {
   "cell_type": "code",
   "execution_count": 6,
   "metadata": {},
   "outputs": [],
   "source": [
    "pd.set_option('display.max_rows', 5)"
   ]
  },
  {
   "cell_type": "markdown",
   "metadata": {},
   "source": [
    "### **cities-states**\n",
    "**Method**: csv file import"
   ]
  },
  {
   "cell_type": "code",
   "execution_count": 36,
   "metadata": {},
   "outputs": [],
   "source": [
    "# Main cities data import\n",
    "dir_cities_states = os.getcwd()+'\\\\..\\\\source_data\\\\World_cities.csv'"
   ]
  },
  {
   "cell_type": "code",
   "execution_count": 37,
   "metadata": {},
   "outputs": [
    {
     "data": {
      "text/html": [
       "<div>\n",
       "<style scoped>\n",
       "    .dataframe tbody tr th:only-of-type {\n",
       "        vertical-align: middle;\n",
       "    }\n",
       "\n",
       "    .dataframe tbody tr th {\n",
       "        vertical-align: top;\n",
       "    }\n",
       "\n",
       "    .dataframe thead th {\n",
       "        text-align: right;\n",
       "    }\n",
       "</style>\n",
       "<table border=\"1\" class=\"dataframe\">\n",
       "  <thead>\n",
       "    <tr style=\"text-align: right;\">\n",
       "      <th></th>\n",
       "      <th>name</th>\n",
       "      <th>state</th>\n",
       "      <th>population</th>\n",
       "      <th>latitude</th>\n",
       "      <th>longitude</th>\n",
       "    </tr>\n",
       "  </thead>\n",
       "  <tbody>\n",
       "    <tr>\n",
       "      <th>0</th>\n",
       "      <td>Mexico City</td>\n",
       "      <td>Ciudad de México</td>\n",
       "      <td>21804000.0</td>\n",
       "      <td>19.4333</td>\n",
       "      <td>-99.1333</td>\n",
       "    </tr>\n",
       "    <tr>\n",
       "      <th>1</th>\n",
       "      <td>Guadalajara</td>\n",
       "      <td>Jalisco</td>\n",
       "      <td>5525000.0</td>\n",
       "      <td>20.6767</td>\n",
       "      <td>-103.3475</td>\n",
       "    </tr>\n",
       "    <tr>\n",
       "      <th>...</th>\n",
       "      <td>...</td>\n",
       "      <td>...</td>\n",
       "      <td>...</td>\n",
       "      <td>...</td>\n",
       "      <td>...</td>\n",
       "    </tr>\n",
       "    <tr>\n",
       "      <th>981</th>\n",
       "      <td>Mazatán</td>\n",
       "      <td>Sonora</td>\n",
       "      <td>1058.0</td>\n",
       "      <td>29.0167</td>\n",
       "      <td>-110.1333</td>\n",
       "    </tr>\n",
       "    <tr>\n",
       "      <th>982</th>\n",
       "      <td>Punta Prieta</td>\n",
       "      <td>Baja California</td>\n",
       "      <td>112.0</td>\n",
       "      <td>28.9289</td>\n",
       "      <td>-114.1556</td>\n",
       "    </tr>\n",
       "  </tbody>\n",
       "</table>\n",
       "<p>983 rows × 5 columns</p>\n",
       "</div>"
      ],
      "text/plain": [
       "             name             state  population  latitude  longitude\n",
       "0     Mexico City  Ciudad de México  21804000.0   19.4333   -99.1333\n",
       "1     Guadalajara           Jalisco   5525000.0   20.6767  -103.3475\n",
       "..            ...               ...         ...       ...        ...\n",
       "981       Mazatán            Sonora      1058.0   29.0167  -110.1333\n",
       "982  Punta Prieta   Baja California       112.0   28.9289  -114.1556\n",
       "\n",
       "[983 rows x 5 columns]"
      ]
     },
     "execution_count": 37,
     "metadata": {},
     "output_type": "execute_result"
    }
   ],
   "source": [
    "cities_states = pd.read_csv(dir_cities_states)\n",
    "cities_states = cities_states[cities_states['country']=='Mexico']\n",
    "cities_states = cities_states[['city','admin_name','population','lat','lng']]\n",
    "cities_states = cities_states.reset_index(drop =True)\n",
    "cities_states = cities_states.rename(columns={'city':'name','admin_name':'state','lat':'latitude','lng':'longitude'})\n",
    "cities_states\n"
   ]
  },
  {
   "cell_type": "code",
   "execution_count": 38,
   "metadata": {},
   "outputs": [],
   "source": [
    "# Saving the table\n",
    "file_path =  os.getcwd() + '/../cleaned_data/cities_states.csv'\n",
    "cities_states.to_csv(file_path, index=False)"
   ]
  },
  {
   "cell_type": "code",
   "execution_count": null,
   "metadata": {},
   "outputs": [],
   "source": [
    "# Database Connection\n",
    "\n",
    "engine = create_engine('mssql+pyodbc://SERVER_NAME/weather?trusted_connection=yes&driver=ODBC+Driver+17+for+SQL+Server')\n"
   ]
  },
  {
   "cell_type": "code",
   "execution_count": null,
   "metadata": {},
   "outputs": [],
   "source": [
    "# Database load\n",
    "cities_states.to_sql('cities_states', engine, if_exists='append', index=False)"
   ]
  }
 ],
 "metadata": {
  "kernelspec": {
   "display_name": "Python 3",
   "language": "python",
   "name": "python3"
  },
  "language_info": {
   "codemirror_mode": {
    "name": "ipython",
    "version": 3
   },
   "file_extension": ".py",
   "mimetype": "text/x-python",
   "name": "python",
   "nbconvert_exporter": "python",
   "pygments_lexer": "ipython3",
   "version": "3.12.5"
  }
 },
 "nbformat": 4,
 "nbformat_minor": 2
}
