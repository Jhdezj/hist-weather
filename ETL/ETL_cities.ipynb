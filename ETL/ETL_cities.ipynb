{
 "cells": [
  {
   "cell_type": "markdown",
   "metadata": {},
   "source": [
    "# **ETL**"
   ]
  },
  {
   "cell_type": "code",
   "execution_count": 2,
   "metadata": {},
   "outputs": [],
   "source": [
    "# Main libraries\n",
    "\n",
    "import requests \n",
    "import os \n",
    "import pandas as pd  \n",
    "import numpy as np\n",
    "import sqlalchemy\n",
    "from sqlalchemy import create_engine"
   ]
  },
  {
   "cell_type": "code",
   "execution_count": 3,
   "metadata": {},
   "outputs": [],
   "source": [
    "pd.set_option('display.max_rows', 5)"
   ]
  },
  {
   "cell_type": "markdown",
   "metadata": {},
   "source": [
    "### **Cities**\n",
    "**Method**: csv file import"
   ]
  },
  {
   "cell_type": "markdown",
   "metadata": {},
   "source": [
    "**Localities: main cities extended**"
   ]
  },
  {
   "cell_type": "code",
   "execution_count": 4,
   "metadata": {},
   "outputs": [],
   "source": [
    "# Main cities extended: including small towns and localities\n",
    "dir_localities = os.getcwd()+'\\\\..\\\\source_data\\\\AGEEML_2020.csv'"
   ]
  },
  {
   "cell_type": "code",
   "execution_count": 5,
   "metadata": {},
   "outputs": [
    {
     "data": {
      "text/html": [
       "<div>\n",
       "<style scoped>\n",
       "    .dataframe tbody tr th:only-of-type {\n",
       "        vertical-align: middle;\n",
       "    }\n",
       "\n",
       "    .dataframe tbody tr th {\n",
       "        vertical-align: top;\n",
       "    }\n",
       "\n",
       "    .dataframe thead th {\n",
       "        text-align: right;\n",
       "    }\n",
       "</style>\n",
       "<table border=\"1\" class=\"dataframe\">\n",
       "  <thead>\n",
       "    <tr style=\"text-align: right;\">\n",
       "      <th></th>\n",
       "      <th>Locality</th>\n",
       "      <th>Municipality</th>\n",
       "      <th>State</th>\n",
       "      <th>Latitud</th>\n",
       "      <th>Longitud</th>\n",
       "      <th>Altitud</th>\n",
       "      <th>Population</th>\n",
       "    </tr>\n",
       "  </thead>\n",
       "  <tbody>\n",
       "    <tr>\n",
       "      <th>0</th>\n",
       "      <td>Aguascalientes</td>\n",
       "      <td>Aguascalientes</td>\n",
       "      <td>Aguascalientes</td>\n",
       "      <td>21.879822</td>\n",
       "      <td>-102.296046</td>\n",
       "      <td>1878</td>\n",
       "      <td>863893</td>\n",
       "    </tr>\n",
       "    <tr>\n",
       "      <th>1</th>\n",
       "      <td>Granja Adelita</td>\n",
       "      <td>Aguascalientes</td>\n",
       "      <td>Aguascalientes</td>\n",
       "      <td>21.871874</td>\n",
       "      <td>-102.373530</td>\n",
       "      <td>1901</td>\n",
       "      <td>5</td>\n",
       "    </tr>\n",
       "    <tr>\n",
       "      <th>...</th>\n",
       "      <td>...</td>\n",
       "      <td>...</td>\n",
       "      <td>...</td>\n",
       "      <td>...</td>\n",
       "      <td>...</td>\n",
       "      <td>...</td>\n",
       "      <td>...</td>\n",
       "    </tr>\n",
       "    <tr>\n",
       "      <th>297851</th>\n",
       "      <td>San Rafael</td>\n",
       "      <td>Santa María de la Paz</td>\n",
       "      <td>Zacatecas</td>\n",
       "      <td>21.527594</td>\n",
       "      <td>-103.372259</td>\n",
       "      <td>2041</td>\n",
       "      <td>3</td>\n",
       "    </tr>\n",
       "    <tr>\n",
       "      <th>297852</th>\n",
       "      <td>Santa Fe</td>\n",
       "      <td>Santa María de la Paz</td>\n",
       "      <td>Zacatecas</td>\n",
       "      <td>21.528991</td>\n",
       "      <td>-103.385095</td>\n",
       "      <td>2021</td>\n",
       "      <td>0</td>\n",
       "    </tr>\n",
       "  </tbody>\n",
       "</table>\n",
       "<p>297853 rows × 7 columns</p>\n",
       "</div>"
      ],
      "text/plain": [
       "              Locality           Municipality           State    Latitud  \\\n",
       "0       Aguascalientes         Aguascalientes  Aguascalientes  21.879822   \n",
       "1       Granja Adelita         Aguascalientes  Aguascalientes  21.871874   \n",
       "...                ...                    ...             ...        ...   \n",
       "297851      San Rafael  Santa María de la Paz       Zacatecas  21.527594   \n",
       "297852        Santa Fe  Santa María de la Paz       Zacatecas  21.528991   \n",
       "\n",
       "          Longitud  Altitud Population  \n",
       "0      -102.296046     1878     863893  \n",
       "1      -102.373530     1901          5  \n",
       "...            ...      ...        ...  \n",
       "297851 -103.372259     2041          3  \n",
       "297852 -103.385095     2021          0  \n",
       "\n",
       "[297853 rows x 7 columns]"
      ]
     },
     "execution_count": 5,
     "metadata": {},
     "output_type": "execute_result"
    }
   ],
   "source": [
    "localities =pd.read_csv(dir_localities, encoding='ANSI')\n",
    "localities = localities[['NOM_LOC','NOM_MUN', 'NOM_ENT','LAT_DECIMAL', 'LON_DECIMAL', 'ALTITUD','POB_TOTAL']]\n",
    "localities = localities.rename(columns={'NOM_LOC':'Locality', 'NOM_MUN':'Municipality', 'NOM_ENT':'State','LAT_DECIMAL': 'Latitud', 'LON_DECIMAL':'Longitud', 'ALTITUD':'Altitud','POB_TOTAL':'Population'  })\n",
    "localities"
   ]
  },
  {
   "cell_type": "code",
   "execution_count": 6,
   "metadata": {},
   "outputs": [],
   "source": [
    "# Saving the table\n",
    "file_path =  os.getcwd() + '/../cleaned_data/localities.csv'\n",
    "localities.to_csv(file_path, index=False)"
   ]
  },
  {
   "cell_type": "markdown",
   "metadata": {},
   "source": [
    "**Main cities: cities**"
   ]
  },
  {
   "cell_type": "code",
   "execution_count": 7,
   "metadata": {},
   "outputs": [],
   "source": [
    "# Main cities data import\n",
    "dir_cities_states = os.getcwd()+'\\\\..\\\\cleaned_data\\\\cities_states.csv'"
   ]
  },
  {
   "cell_type": "code",
   "execution_count": 8,
   "metadata": {},
   "outputs": [
    {
     "data": {
      "text/html": [
       "<div>\n",
       "<style scoped>\n",
       "    .dataframe tbody tr th:only-of-type {\n",
       "        vertical-align: middle;\n",
       "    }\n",
       "\n",
       "    .dataframe tbody tr th {\n",
       "        vertical-align: top;\n",
       "    }\n",
       "\n",
       "    .dataframe thead th {\n",
       "        text-align: right;\n",
       "    }\n",
       "</style>\n",
       "<table border=\"1\" class=\"dataframe\">\n",
       "  <thead>\n",
       "    <tr style=\"text-align: right;\">\n",
       "      <th></th>\n",
       "      <th>name</th>\n",
       "      <th>state</th>\n",
       "      <th>population</th>\n",
       "      <th>latitude</th>\n",
       "      <th>longitude</th>\n",
       "    </tr>\n",
       "  </thead>\n",
       "  <tbody>\n",
       "    <tr>\n",
       "      <th>0</th>\n",
       "      <td>Mexico City</td>\n",
       "      <td>Ciudad de México</td>\n",
       "      <td>21804000.0</td>\n",
       "      <td>19.4333</td>\n",
       "      <td>-99.1333</td>\n",
       "    </tr>\n",
       "    <tr>\n",
       "      <th>1</th>\n",
       "      <td>Guadalajara</td>\n",
       "      <td>Jalisco</td>\n",
       "      <td>5525000.0</td>\n",
       "      <td>20.6767</td>\n",
       "      <td>-103.3475</td>\n",
       "    </tr>\n",
       "    <tr>\n",
       "      <th>...</th>\n",
       "      <td>...</td>\n",
       "      <td>...</td>\n",
       "      <td>...</td>\n",
       "      <td>...</td>\n",
       "      <td>...</td>\n",
       "    </tr>\n",
       "    <tr>\n",
       "      <th>981</th>\n",
       "      <td>Mazatán</td>\n",
       "      <td>Sonora</td>\n",
       "      <td>1058.0</td>\n",
       "      <td>29.0167</td>\n",
       "      <td>-110.1333</td>\n",
       "    </tr>\n",
       "    <tr>\n",
       "      <th>982</th>\n",
       "      <td>Punta Prieta</td>\n",
       "      <td>Baja California</td>\n",
       "      <td>112.0</td>\n",
       "      <td>28.9289</td>\n",
       "      <td>-114.1556</td>\n",
       "    </tr>\n",
       "  </tbody>\n",
       "</table>\n",
       "<p>983 rows × 5 columns</p>\n",
       "</div>"
      ],
      "text/plain": [
       "             name             state  population  latitude  longitude\n",
       "0     Mexico City  Ciudad de México  21804000.0   19.4333   -99.1333\n",
       "1     Guadalajara           Jalisco   5525000.0   20.6767  -103.3475\n",
       "..            ...               ...         ...       ...        ...\n",
       "981       Mazatán            Sonora      1058.0   29.0167  -110.1333\n",
       "982  Punta Prieta   Baja California       112.0   28.9289  -114.1556\n",
       "\n",
       "[983 rows x 5 columns]"
      ]
     },
     "execution_count": 8,
     "metadata": {},
     "output_type": "execute_result"
    }
   ],
   "source": [
    "cities_states = pd.read_csv(dir_cities_states)\n",
    "cities_states"
   ]
  },
  {
   "cell_type": "code",
   "execution_count": 12,
   "metadata": {},
   "outputs": [
    {
     "data": {
      "text/html": [
       "<div>\n",
       "<style scoped>\n",
       "    .dataframe tbody tr th:only-of-type {\n",
       "        vertical-align: middle;\n",
       "    }\n",
       "\n",
       "    .dataframe tbody tr th {\n",
       "        vertical-align: top;\n",
       "    }\n",
       "\n",
       "    .dataframe thead th {\n",
       "        text-align: right;\n",
       "    }\n",
       "</style>\n",
       "<table border=\"1\" class=\"dataframe\">\n",
       "  <thead>\n",
       "    <tr style=\"text-align: right;\">\n",
       "      <th></th>\n",
       "      <th>name</th>\n",
       "      <th>population</th>\n",
       "      <th>latitude</th>\n",
       "      <th>longitude</th>\n",
       "    </tr>\n",
       "  </thead>\n",
       "  <tbody>\n",
       "    <tr>\n",
       "      <th>0</th>\n",
       "      <td>Mexico City</td>\n",
       "      <td>21804000.0</td>\n",
       "      <td>19.4333</td>\n",
       "      <td>-99.1333</td>\n",
       "    </tr>\n",
       "    <tr>\n",
       "      <th>1</th>\n",
       "      <td>Guadalajara</td>\n",
       "      <td>5525000.0</td>\n",
       "      <td>20.6767</td>\n",
       "      <td>-103.3475</td>\n",
       "    </tr>\n",
       "    <tr>\n",
       "      <th>...</th>\n",
       "      <td>...</td>\n",
       "      <td>...</td>\n",
       "      <td>...</td>\n",
       "      <td>...</td>\n",
       "    </tr>\n",
       "    <tr>\n",
       "      <th>981</th>\n",
       "      <td>Mazatán</td>\n",
       "      <td>1058.0</td>\n",
       "      <td>29.0167</td>\n",
       "      <td>-110.1333</td>\n",
       "    </tr>\n",
       "    <tr>\n",
       "      <th>982</th>\n",
       "      <td>Punta Prieta</td>\n",
       "      <td>112.0</td>\n",
       "      <td>28.9289</td>\n",
       "      <td>-114.1556</td>\n",
       "    </tr>\n",
       "  </tbody>\n",
       "</table>\n",
       "<p>983 rows × 4 columns</p>\n",
       "</div>"
      ],
      "text/plain": [
       "             name  population  latitude  longitude\n",
       "0     Mexico City  21804000.0   19.4333   -99.1333\n",
       "1     Guadalajara   5525000.0   20.6767  -103.3475\n",
       "..            ...         ...       ...        ...\n",
       "981       Mazatán      1058.0   29.0167  -110.1333\n",
       "982  Punta Prieta       112.0   28.9289  -114.1556\n",
       "\n",
       "[983 rows x 4 columns]"
      ]
     },
     "execution_count": 12,
     "metadata": {},
     "output_type": "execute_result"
    }
   ],
   "source": [
    "cities = cities_states[['name', 'population','latitude','longitude']]\n",
    "cities\n"
   ]
  },
  {
   "cell_type": "code",
   "execution_count": 13,
   "metadata": {},
   "outputs": [],
   "source": [
    "# Saving the table\n",
    "file_path =  os.getcwd() + '/../cleaned_data/cities.csv'\n",
    "cities.to_csv(file_path, index=False)"
   ]
  },
  {
   "cell_type": "code",
   "execution_count": null,
   "metadata": {},
   "outputs": [],
   "source": [
    "# Database Connection\n",
    "\n",
    "engine = create_engine('mssql+pyodbc://SERVER_NAME/weather?trusted_connection=yes&driver=ODBC+Driver+17+for+SQL+Server')\n"
   ]
  },
  {
   "cell_type": "code",
   "execution_count": null,
   "metadata": {},
   "outputs": [],
   "source": [
    "# Database load\n",
    "cities.to_sql('cities', engine, if_exists='append', index=False)"
   ]
  }
 ],
 "metadata": {
  "kernelspec": {
   "display_name": "Python 3",
   "language": "python",
   "name": "python3"
  },
  "language_info": {
   "codemirror_mode": {
    "name": "ipython",
    "version": 3
   },
   "file_extension": ".py",
   "mimetype": "text/x-python",
   "name": "python",
   "nbconvert_exporter": "python",
   "pygments_lexer": "ipython3",
   "version": "3.12.5"
  }
 },
 "nbformat": 4,
 "nbformat_minor": 2
}
