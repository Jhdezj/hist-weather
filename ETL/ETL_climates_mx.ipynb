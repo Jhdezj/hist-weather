{
 "cells": [
  {
   "cell_type": "markdown",
   "metadata": {},
   "source": [
    "# **ETL**"
   ]
  },
  {
   "cell_type": "markdown",
   "metadata": {},
   "source": [
    "### **Climates in Mexico**\n",
    "**Method**: csv file import in R"
   ]
  },
  {
   "cell_type": "code",
   "execution_count": 21,
   "metadata": {
    "vscode": {
     "languageId": "r"
    }
   },
   "outputs": [],
   "source": [
    "library(terra)\n",
    "library(dplyr)"
   ]
  },
  {
   "cell_type": "code",
   "execution_count": null,
   "metadata": {
    "vscode": {
     "languageId": "r"
    }
   },
   "outputs": [],
   "source": [
    "getwd()\n",
    "setwd(\"../source_data\")\n",
    "directory <- paste(getwd(),\"/climate_mx/climate.bil\", sep=\"\")\n",
    "directory"
   ]
  },
  {
   "cell_type": "code",
   "execution_count": 38,
   "metadata": {
    "vscode": {
     "languageId": "r"
    }
   },
   "outputs": [],
   "source": [
    "climate <- rast(directory)"
   ]
  },
  {
   "cell_type": "code",
   "execution_count": 39,
   "metadata": {
    "vscode": {
     "languageId": "r"
    }
   },
   "outputs": [
    {
     "data": {
      "text/plain": [
       "class       : SpatRaster \n",
       "dimensions  : 11040, 16320, 1  (nrow, ncol, nlyr)\n",
       "resolution  : 0.002083333, 0.002083333  (x, y)\n",
       "extent      : -119, -85, 12, 35  (xmin, xmax, ymin, ymax)\n",
       "coord. ref. : lon/lat WGS 84 \n",
       "source      : climate.bil \n",
       "categories  : CVE_GRUPO, GRUPO, CVE_SUBGR, SUBGRUPO, CVE_TIPO, TIPO, CVE_SUBTIP, SUBTIPO, REG_LLUVIA, LLUV_INVER, TEMP_MED_A, TEMP_MES_F, TEMP_MES_C, FORM_CLIM \n",
       "name        : CVE_GRUPO \n",
       "min value   :        NA \n",
       "max value   :         E "
      ]
     },
     "metadata": {},
     "output_type": "display_data"
    }
   ],
   "source": [
    "# Exploring raster properties\n",
    "climate"
   ]
  },
  {
   "cell_type": "code",
   "execution_count": 55,
   "metadata": {
    "vscode": {
     "languageId": "r"
    }
   },
   "outputs": [
    {
     "data": {
      "image/png": "[encoded data removed]",
      "text/plain": [
       "plot without title"
      ]
     },
     "metadata": {
      "image/png": {
       "height": 420,
       "width": 420
      }
     },
     "output_type": "display_data"
    }
   ],
   "source": [
    "# Map plotting\n",
    "colors <- c(\"#ECB176\", \"#00e600\",\"#FFFF00\" , \"#00A600\", \"#A020F0\")\n",
    "plot(climate, col=colors)"
   ]
  },
  {
   "cell_type": "code",
   "execution_count": 56,
   "metadata": {
    "vscode": {
     "languageId": "r"
    }
   },
   "outputs": [
    {
     "data": {
      "text/html": [
       "<table class=\"dataframe\">\n",
       "<caption>A data.frame: 1 × 2</caption>\n",
       "<thead>\n",
       "\t<tr><th scope=col>ID</th><th scope=col>CVE_GRUPO</th></tr>\n",
       "\t<tr><th scope=col>&lt;dbl&gt;</th><th scope=col>&lt;fct&gt;</th></tr>\n",
       "</thead>\n",
       "<tbody>\n",
       "\t<tr><td>1</td><td>B</td></tr>\n",
       "</tbody>\n",
       "</table>\n"
      ],
      "text/latex": [
       "A data.frame: 1 × 2\n",
       "\\begin{tabular}{ll}\n",
       " ID & CVE\\_GRUPO\\\\\n",
       " <dbl> & <fct>\\\\\n",
       "\\hline\n",
       "\t 1 & B\\\\\n",
       "\\end{tabular}\n"
      ],
      "text/markdown": [
       "\n",
       "A data.frame: 1 × 2\n",
       "\n",
       "| ID &lt;dbl&gt; | CVE_GRUPO &lt;fct&gt; |\n",
       "|---|---|\n",
       "| 1 | B |\n",
       "\n"
      ],
      "text/plain": [
       "  ID CVE_GRUPO\n",
       "1 1  B        "
      ]
     },
     "metadata": {},
     "output_type": "display_data"
    }
   ],
   "source": [
    "# Exploring value for a given point\n",
    "longitude <- -105\n",
    "latitude <- 30\n",
    "\n",
    "point <- vect(cbind(longitude, latitude), crs=crs(climate))\n",
    "\n",
    "value<- extract(climate, point)\n",
    "value"
   ]
  },
  {
   "cell_type": "code",
   "execution_count": 57,
   "metadata": {
    "vscode": {
     "languageId": "r"
    }
   },
   "outputs": [
    {
     "data": {
      "text/html": [
       "<table class=\"dataframe\">\n",
       "<caption>A data.frame: 3 × 2</caption>\n",
       "<thead>\n",
       "\t<tr><th scope=col>ID</th><th scope=col>CVE_GRUPO</th></tr>\n",
       "\t<tr><th scope=col>&lt;dbl&gt;</th><th scope=col>&lt;fct&gt;</th></tr>\n",
       "</thead>\n",
       "<tbody>\n",
       "\t<tr><td>1</td><td>B</td></tr>\n",
       "\t<tr><td>2</td><td>A</td></tr>\n",
       "\t<tr><td>3</td><td>C</td></tr>\n",
       "</tbody>\n",
       "</table>\n"
      ],
      "text/latex": [
       "A data.frame: 3 × 2\n",
       "\\begin{tabular}{ll}\n",
       " ID & CVE\\_GRUPO\\\\\n",
       " <dbl> & <fct>\\\\\n",
       "\\hline\n",
       "\t 1 & B\\\\\n",
       "\t 2 & A\\\\\n",
       "\t 3 & C\\\\\n",
       "\\end{tabular}\n"
      ],
      "text/markdown": [
       "\n",
       "A data.frame: 3 × 2\n",
       "\n",
       "| ID &lt;dbl&gt; | CVE_GRUPO &lt;fct&gt; |\n",
       "|---|---|\n",
       "| 1 | B |\n",
       "| 2 | A |\n",
       "| 3 | C |\n",
       "\n"
      ],
      "text/plain": [
       "  ID CVE_GRUPO\n",
       "1 1  B        \n",
       "2 2  A        \n",
       "3 3  C        "
      ]
     },
     "metadata": {},
     "output_type": "display_data"
    }
   ],
   "source": [
    "# Exploring values for a list of points\n",
    "longitude <- c(-105,-90, -95)\n",
    "latitude <- c(30, 17, 30)\n",
    "\n",
    "point <- vect(cbind(longitude, latitude), crs=crs(climate))\n",
    "\n",
    "value<- extract(climate, point)\n",
    "value"
   ]
  },
  {
   "cell_type": "code",
   "execution_count": null,
   "metadata": {
    "vscode": {
     "languageId": "r"
    }
   },
   "outputs": [],
   "source": [
    "# Getting the world cities file\n",
    "wc_directory <- paste(getwd(), \"/World_cities.csv\",sep=\"\")\n",
    "\n",
    "wc_directory"
   ]
  },
  {
   "cell_type": "code",
   "execution_count": 62,
   "metadata": {
    "vscode": {
     "languageId": "r"
    }
   },
   "outputs": [
    {
     "data": {
      "text/html": [
       "<table class=\"dataframe\">\n",
       "<caption>A data.frame: 6 × 11</caption>\n",
       "<thead>\n",
       "\t<tr><th></th><th scope=col>city</th><th scope=col>city_ascii</th><th scope=col>lat</th><th scope=col>lng</th><th scope=col>country</th><th scope=col>iso2</th><th scope=col>iso3</th><th scope=col>admin_name</th><th scope=col>capital</th><th scope=col>population</th><th scope=col>id</th></tr>\n",
       "\t<tr><th></th><th scope=col>&lt;chr&gt;</th><th scope=col>&lt;chr&gt;</th><th scope=col>&lt;dbl&gt;</th><th scope=col>&lt;dbl&gt;</th><th scope=col>&lt;chr&gt;</th><th scope=col>&lt;chr&gt;</th><th scope=col>&lt;chr&gt;</th><th scope=col>&lt;chr&gt;</th><th scope=col>&lt;chr&gt;</th><th scope=col>&lt;dbl&gt;</th><th scope=col>&lt;int&gt;</th></tr>\n",
       "</thead>\n",
       "<tbody>\n",
       "\t<tr><th scope=row>1</th><td>Tokyo    </td><td>Tokyo    </td><td>35.6897</td><td>139.6922</td><td>Japan      </td><td>JP</td><td>JPN</td><td>Tōkyō      </td><td>primary</td><td>37732000</td><td>1392685764</td></tr>\n",
       "\t<tr><th scope=row>2</th><td>Jakarta  </td><td>Jakarta  </td><td>-6.1750</td><td>106.8275</td><td>Indonesia  </td><td>ID</td><td>IDN</td><td>Jakarta    </td><td>primary</td><td>33756000</td><td>1360771077</td></tr>\n",
       "\t<tr><th scope=row>3</th><td>Delhi    </td><td>Delhi    </td><td>28.6100</td><td> 77.2300</td><td>India      </td><td>IN</td><td>IND</td><td>Delhi      </td><td>admin  </td><td>32226000</td><td>1356872604</td></tr>\n",
       "\t<tr><th scope=row>4</th><td>Guangzhou</td><td>Guangzhou</td><td>23.1300</td><td>113.2600</td><td>China      </td><td>CN</td><td>CHN</td><td>Guangdong  </td><td>admin  </td><td>26940000</td><td>1156237133</td></tr>\n",
       "\t<tr><th scope=row>5</th><td>Mumbai   </td><td>Mumbai   </td><td>19.0761</td><td> 72.8775</td><td>India      </td><td>IN</td><td>IND</td><td>Mahārāshtra</td><td>admin  </td><td>24973000</td><td>1356226629</td></tr>\n",
       "\t<tr><th scope=row>6</th><td>Manila   </td><td>Manila   </td><td>14.5958</td><td>120.9772</td><td>Philippines</td><td>PH</td><td>PHL</td><td>Manila     </td><td>primary</td><td>24922000</td><td>1608618140</td></tr>\n",
       "</tbody>\n",
       "</table>\n"
      ],
      "text/latex": [
       "A data.frame: 6 × 11\n",
       "\\begin{tabular}{r|lllllllllll}\n",
       "  & city & city\\_ascii & lat & lng & country & iso2 & iso3 & admin\\_name & capital & population & id\\\\\n",
       "  & <chr> & <chr> & <dbl> & <dbl> & <chr> & <chr> & <chr> & <chr> & <chr> & <dbl> & <int>\\\\\n",
       "\\hline\n",
       "\t1 & Tokyo     & Tokyo     & 35.6897 & 139.6922 & Japan       & JP & JPN & Tōkyō       & primary & 37732000 & 1392685764\\\\\n",
       "\t2 & Jakarta   & Jakarta   & -6.1750 & 106.8275 & Indonesia   & ID & IDN & Jakarta     & primary & 33756000 & 1360771077\\\\\n",
       "\t3 & Delhi     & Delhi     & 28.6100 &  77.2300 & India       & IN & IND & Delhi       & admin   & 32226000 & 1356872604\\\\\n",
       "\t4 & Guangzhou & Guangzhou & 23.1300 & 113.2600 & China       & CN & CHN & Guangdong   & admin   & 26940000 & 1156237133\\\\\n",
       "\t5 & Mumbai    & Mumbai    & 19.0761 &  72.8775 & India       & IN & IND & Mahārāshtra & admin   & 24973000 & 1356226629\\\\\n",
       "\t6 & Manila    & Manila    & 14.5958 & 120.9772 & Philippines & PH & PHL & Manila      & primary & 24922000 & 1608618140\\\\\n",
       "\\end{tabular}\n"
      ],
      "text/markdown": [
       "\n",
       "A data.frame: 6 × 11\n",
       "\n",
       "| <!--/--> | city &lt;chr&gt; | city_ascii &lt;chr&gt; | lat &lt;dbl&gt; | lng &lt;dbl&gt; | country &lt;chr&gt; | iso2 &lt;chr&gt; | iso3 &lt;chr&gt; | admin_name &lt;chr&gt; | capital &lt;chr&gt; | population &lt;dbl&gt; | id &lt;int&gt; |\n",
       "|---|---|---|---|---|---|---|---|---|---|---|---|\n",
       "| 1 | Tokyo     | Tokyo     | 35.6897 | 139.6922 | Japan       | JP | JPN | Tōkyō       | primary | 37732000 | 1392685764 |\n",
       "| 2 | Jakarta   | Jakarta   | -6.1750 | 106.8275 | Indonesia   | ID | IDN | Jakarta     | primary | 33756000 | 1360771077 |\n",
       "| 3 | Delhi     | Delhi     | 28.6100 |  77.2300 | India       | IN | IND | Delhi       | admin   | 32226000 | 1356872604 |\n",
       "| 4 | Guangzhou | Guangzhou | 23.1300 | 113.2600 | China       | CN | CHN | Guangdong   | admin   | 26940000 | 1156237133 |\n",
       "| 5 | Mumbai    | Mumbai    | 19.0761 |  72.8775 | India       | IN | IND | Mahārāshtra | admin   | 24973000 | 1356226629 |\n",
       "| 6 | Manila    | Manila    | 14.5958 | 120.9772 | Philippines | PH | PHL | Manila      | primary | 24922000 | 1608618140 |\n",
       "\n"
      ],
      "text/plain": [
       "  city      city_ascii lat     lng      country     iso2 iso3 admin_name \n",
       "1 Tokyo     Tokyo      35.6897 139.6922 Japan       JP   JPN  Tōkyō      \n",
       "2 Jakarta   Jakarta    -6.1750 106.8275 Indonesia   ID   IDN  Jakarta    \n",
       "3 Delhi     Delhi      28.6100  77.2300 India       IN   IND  Delhi      \n",
       "4 Guangzhou Guangzhou  23.1300 113.2600 China       CN   CHN  Guangdong  \n",
       "5 Mumbai    Mumbai     19.0761  72.8775 India       IN   IND  Mahārāshtra\n",
       "6 Manila    Manila     14.5958 120.9772 Philippines PH   PHL  Manila     \n",
       "  capital population id        \n",
       "1 primary 37732000   1392685764\n",
       "2 primary 33756000   1360771077\n",
       "3 admin   32226000   1356872604\n",
       "4 admin   26940000   1156237133\n",
       "5 admin   24973000   1356226629\n",
       "6 primary 24922000   1608618140"
      ]
     },
     "metadata": {},
     "output_type": "display_data"
    }
   ],
   "source": [
    "# Reading and exploring world cities by longitude and latitude\n",
    "world_cities <- read.csv(wc_directory)\n",
    "head(world_cities)"
   ]
  },
  {
   "cell_type": "code",
   "execution_count": 63,
   "metadata": {
    "vscode": {
     "languageId": "r"
    }
   },
   "outputs": [
    {
     "data": {
      "text/html": [
       "<table class=\"dataframe\">\n",
       "<caption>A data.frame: 6 × 3</caption>\n",
       "<thead>\n",
       "\t<tr><th></th><th scope=col>city</th><th scope=col>lat</th><th scope=col>lng</th></tr>\n",
       "\t<tr><th></th><th scope=col>&lt;chr&gt;</th><th scope=col>&lt;dbl&gt;</th><th scope=col>&lt;dbl&gt;</th></tr>\n",
       "</thead>\n",
       "<tbody>\n",
       "\t<tr><th scope=row>1</th><td>Mexico City       </td><td>19.4333</td><td> -99.1333</td></tr>\n",
       "\t<tr><th scope=row>2</th><td>Guadalajara       </td><td>20.6767</td><td>-103.3475</td></tr>\n",
       "\t<tr><th scope=row>3</th><td>Monterrey         </td><td>25.6667</td><td>-100.3000</td></tr>\n",
       "\t<tr><th scope=row>4</th><td>Tijuana           </td><td>32.5250</td><td>-117.0333</td></tr>\n",
       "\t<tr><th scope=row>5</th><td>Ecatepec          </td><td>19.6097</td><td> -99.0600</td></tr>\n",
       "\t<tr><th scope=row>6</th><td>León de los Aldama</td><td>21.1167</td><td>-101.6833</td></tr>\n",
       "</tbody>\n",
       "</table>\n"
      ],
      "text/latex": [
       "A data.frame: 6 × 3\n",
       "\\begin{tabular}{r|lll}\n",
       "  & city & lat & lng\\\\\n",
       "  & <chr> & <dbl> & <dbl>\\\\\n",
       "\\hline\n",
       "\t1 & Mexico City        & 19.4333 &  -99.1333\\\\\n",
       "\t2 & Guadalajara        & 20.6767 & -103.3475\\\\\n",
       "\t3 & Monterrey          & 25.6667 & -100.3000\\\\\n",
       "\t4 & Tijuana            & 32.5250 & -117.0333\\\\\n",
       "\t5 & Ecatepec           & 19.6097 &  -99.0600\\\\\n",
       "\t6 & León de los Aldama & 21.1167 & -101.6833\\\\\n",
       "\\end{tabular}\n"
      ],
      "text/markdown": [
       "\n",
       "A data.frame: 6 × 3\n",
       "\n",
       "| <!--/--> | city &lt;chr&gt; | lat &lt;dbl&gt; | lng &lt;dbl&gt; |\n",
       "|---|---|---|---|\n",
       "| 1 | Mexico City        | 19.4333 |  -99.1333 |\n",
       "| 2 | Guadalajara        | 20.6767 | -103.3475 |\n",
       "| 3 | Monterrey          | 25.6667 | -100.3000 |\n",
       "| 4 | Tijuana            | 32.5250 | -117.0333 |\n",
       "| 5 | Ecatepec           | 19.6097 |  -99.0600 |\n",
       "| 6 | León de los Aldama | 21.1167 | -101.6833 |\n",
       "\n"
      ],
      "text/plain": [
       "  city               lat     lng      \n",
       "1 Mexico City        19.4333  -99.1333\n",
       "2 Guadalajara        20.6767 -103.3475\n",
       "3 Monterrey          25.6667 -100.3000\n",
       "4 Tijuana            32.5250 -117.0333\n",
       "5 Ecatepec           19.6097  -99.0600\n",
       "6 León de los Aldama 21.1167 -101.6833"
      ]
     },
     "metadata": {},
     "output_type": "display_data"
    }
   ],
   "source": [
    "# Filtering Mexican cities\n",
    "mexican_cities <- world_cities %>%\n",
    "    select(city, country,lat,lng)%>%\n",
    "    filter(country == \"Mexico\") %>%\n",
    "    select(city,lat, lng)\n",
    "\n",
    "head(mexican_cities)"
   ]
  },
  {
   "cell_type": "code",
   "execution_count": 64,
   "metadata": {
    "vscode": {
     "languageId": "r"
    }
   },
   "outputs": [
    {
     "data": {
      "text/html": [
       "<table class=\"dataframe\">\n",
       "<caption>A data.frame: 6 × 2</caption>\n",
       "<thead>\n",
       "\t<tr><th></th><th scope=col>lat</th><th scope=col>lng</th></tr>\n",
       "\t<tr><th></th><th scope=col>&lt;dbl&gt;</th><th scope=col>&lt;dbl&gt;</th></tr>\n",
       "</thead>\n",
       "<tbody>\n",
       "\t<tr><th scope=row>1</th><td>19.4333</td><td> -99.1333</td></tr>\n",
       "\t<tr><th scope=row>2</th><td>20.6767</td><td>-103.3475</td></tr>\n",
       "\t<tr><th scope=row>3</th><td>25.6667</td><td>-100.3000</td></tr>\n",
       "\t<tr><th scope=row>4</th><td>32.5250</td><td>-117.0333</td></tr>\n",
       "\t<tr><th scope=row>5</th><td>19.6097</td><td> -99.0600</td></tr>\n",
       "\t<tr><th scope=row>6</th><td>21.1167</td><td>-101.6833</td></tr>\n",
       "</tbody>\n",
       "</table>\n"
      ],
      "text/latex": [
       "A data.frame: 6 × 2\n",
       "\\begin{tabular}{r|ll}\n",
       "  & lat & lng\\\\\n",
       "  & <dbl> & <dbl>\\\\\n",
       "\\hline\n",
       "\t1 & 19.4333 &  -99.1333\\\\\n",
       "\t2 & 20.6767 & -103.3475\\\\\n",
       "\t3 & 25.6667 & -100.3000\\\\\n",
       "\t4 & 32.5250 & -117.0333\\\\\n",
       "\t5 & 19.6097 &  -99.0600\\\\\n",
       "\t6 & 21.1167 & -101.6833\\\\\n",
       "\\end{tabular}\n"
      ],
      "text/markdown": [
       "\n",
       "A data.frame: 6 × 2\n",
       "\n",
       "| <!--/--> | lat &lt;dbl&gt; | lng &lt;dbl&gt; |\n",
       "|---|---|---|\n",
       "| 1 | 19.4333 |  -99.1333 |\n",
       "| 2 | 20.6767 | -103.3475 |\n",
       "| 3 | 25.6667 | -100.3000 |\n",
       "| 4 | 32.5250 | -117.0333 |\n",
       "| 5 | 19.6097 |  -99.0600 |\n",
       "| 6 | 21.1167 | -101.6833 |\n",
       "\n"
      ],
      "text/plain": [
       "  lat     lng      \n",
       "1 19.4333  -99.1333\n",
       "2 20.6767 -103.3475\n",
       "3 25.6667 -100.3000\n",
       "4 32.5250 -117.0333\n",
       "5 19.6097  -99.0600\n",
       "6 21.1167 -101.6833"
      ]
     },
     "metadata": {},
     "output_type": "display_data"
    }
   ],
   "source": [
    "mexican_cities_1 <- mexican_cities %>%\n",
    "    select(lat,lng)\n",
    "    \n",
    "head(mexican_cities_1)"
   ]
  },
  {
   "cell_type": "code",
   "execution_count": 66,
   "metadata": {
    "vscode": {
     "languageId": "r"
    }
   },
   "outputs": [
    {
     "data": {
      "text/html": [
       "<table class=\"dataframe\">\n",
       "<caption>A data.frame: 6 × 4</caption>\n",
       "<thead>\n",
       "\t<tr><th></th><th scope=col>city</th><th scope=col>lat</th><th scope=col>lng</th><th scope=col>group</th></tr>\n",
       "\t<tr><th></th><th scope=col>&lt;chr&gt;</th><th scope=col>&lt;dbl&gt;</th><th scope=col>&lt;dbl&gt;</th><th scope=col>&lt;fct&gt;</th></tr>\n",
       "</thead>\n",
       "<tbody>\n",
       "\t<tr><th scope=row>1</th><td>Mexico City       </td><td>19.4333</td><td> -99.1333</td><td>C</td></tr>\n",
       "\t<tr><th scope=row>2</th><td>Guadalajara       </td><td>20.6767</td><td>-103.3475</td><td>C</td></tr>\n",
       "\t<tr><th scope=row>3</th><td>Monterrey         </td><td>25.6667</td><td>-100.3000</td><td>C</td></tr>\n",
       "\t<tr><th scope=row>4</th><td>Tijuana           </td><td>32.5250</td><td>-117.0333</td><td>B</td></tr>\n",
       "\t<tr><th scope=row>5</th><td>Ecatepec          </td><td>19.6097</td><td> -99.0600</td><td>C</td></tr>\n",
       "\t<tr><th scope=row>6</th><td>León de los Aldama</td><td>21.1167</td><td>-101.6833</td><td>B</td></tr>\n",
       "</tbody>\n",
       "</table>\n"
      ],
      "text/latex": [
       "A data.frame: 6 × 4\n",
       "\\begin{tabular}{r|llll}\n",
       "  & city & lat & lng & group\\\\\n",
       "  & <chr> & <dbl> & <dbl> & <fct>\\\\\n",
       "\\hline\n",
       "\t1 & Mexico City        & 19.4333 &  -99.1333 & C\\\\\n",
       "\t2 & Guadalajara        & 20.6767 & -103.3475 & C\\\\\n",
       "\t3 & Monterrey          & 25.6667 & -100.3000 & C\\\\\n",
       "\t4 & Tijuana            & 32.5250 & -117.0333 & B\\\\\n",
       "\t5 & Ecatepec           & 19.6097 &  -99.0600 & C\\\\\n",
       "\t6 & León de los Aldama & 21.1167 & -101.6833 & B\\\\\n",
       "\\end{tabular}\n"
      ],
      "text/markdown": [
       "\n",
       "A data.frame: 6 × 4\n",
       "\n",
       "| <!--/--> | city &lt;chr&gt; | lat &lt;dbl&gt; | lng &lt;dbl&gt; | group &lt;fct&gt; |\n",
       "|---|---|---|---|---|\n",
       "| 1 | Mexico City        | 19.4333 |  -99.1333 | C |\n",
       "| 2 | Guadalajara        | 20.6767 | -103.3475 | C |\n",
       "| 3 | Monterrey          | 25.6667 | -100.3000 | C |\n",
       "| 4 | Tijuana            | 32.5250 | -117.0333 | B |\n",
       "| 5 | Ecatepec           | 19.6097 |  -99.0600 | C |\n",
       "| 6 | León de los Aldama | 21.1167 | -101.6833 | B |\n",
       "\n"
      ],
      "text/plain": [
       "  city               lat     lng       group\n",
       "1 Mexico City        19.4333  -99.1333 C    \n",
       "2 Guadalajara        20.6767 -103.3475 C    \n",
       "3 Monterrey          25.6667 -100.3000 C    \n",
       "4 Tijuana            32.5250 -117.0333 B    \n",
       "5 Ecatepec           19.6097  -99.0600 C    \n",
       "6 León de los Aldama 21.1167 -101.6833 B    "
      ]
     },
     "metadata": {},
     "output_type": "display_data"
    }
   ],
   "source": [
    "# Extracting the climate group by longitude and latitud\n",
    "longitude <- mexican_cities[[\"lng\"]]\n",
    "latitude <- mexican_cities[[\"lat\"]]\n",
    "point <- vect(cbind(longitude, latitude), crs=crs(climate))\n",
    "value<- extract(climate, point)\n",
    "mexican_cities <-cbind(mexican_cities,value)\n",
    "mexican_cities <-mexican_cities %>%\n",
    "  select(city, lat, lng, CVE_GRUPO)\n",
    "mexican_cities <- rename(mexican_cities, group = CVE_GRUPO)\n",
    "head(mexican_cities)\n"
   ]
  },
  {
   "cell_type": "code",
   "execution_count": null,
   "metadata": {
    "vscode": {
     "languageId": "r"
    }
   },
   "outputs": [],
   "source": [
    "getwd()\n",
    "setwd(\"../auxiliary\")\n"
   ]
  },
  {
   "cell_type": "code",
   "execution_count": null,
   "metadata": {
    "vscode": {
     "languageId": "r"
    }
   },
   "outputs": [],
   "source": [
    "# Saving table\n",
    "getwd()\n",
    "setwd(\"../auxiliary\")\n",
    "file_path <- getwd()\n",
    "write.csv(mexican_cities, \"climate_mx.csv\")\n"
   ]
  }
 ],
 "metadata": {
  "kernelspec": {
   "display_name": "R",
   "language": "R",
   "name": "ir"
  },
  "language_info": {
   "codemirror_mode": "r",
   "file_extension": ".r",
   "mimetype": "text/x-r-source",
   "name": "R",
   "pygments_lexer": "r",
   "version": "4.4.1"
  }
 },
 "nbformat": 4,
 "nbformat_minor": 2
}
