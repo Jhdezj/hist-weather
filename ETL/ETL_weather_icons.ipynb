{
 "cells": [
  {
   "cell_type": "markdown",
   "metadata": {},
   "source": [
    "# **ETL**"
   ]
  },
  {
   "cell_type": "code",
   "execution_count": 2,
   "metadata": {},
   "outputs": [],
   "source": [
    "# Main libraries\n",
    "\n",
    "import requests \n",
    "import os \n",
    "import io \n",
    "import pandas as pd  \n",
    "import bs4 \n",
    "import numpy as np\n",
    "from PIL import Image\n",
    "import sqlalchemy\n",
    "from sqlalchemy import create_engine\n",
    "\n"
   ]
  },
  {
   "cell_type": "code",
   "execution_count": 19,
   "metadata": {},
   "outputs": [],
   "source": [
    "pd.set_option('display.max_rows', 5)"
   ]
  },
  {
   "cell_type": "markdown",
   "metadata": {},
   "source": [
    "### **Weather icons**"
   ]
  },
  {
   "cell_type": "markdown",
   "metadata": {},
   "source": [
    "**Method**: web scraping"
   ]
  },
  {
   "cell_type": "code",
   "execution_count": 20,
   "metadata": {},
   "outputs": [],
   "source": [
    "# Connection to get the Icon list table: https://openweathermap.org/weather-conditions\n",
    "\n",
    "URL =  'https://openweathermap.org/weather-conditions'\n",
    "req = requests.get(URL)\n",
    "if req.status_code != 200:\n",
    "    print(f\"Error: status code {req.status_code}\")\n"
   ]
  },
  {
   "cell_type": "code",
   "execution_count": 21,
   "metadata": {},
   "outputs": [
    {
     "data": {
      "text/html": [
       "<div>\n",
       "<style scoped>\n",
       "    .dataframe tbody tr th:only-of-type {\n",
       "        vertical-align: middle;\n",
       "    }\n",
       "\n",
       "    .dataframe tbody tr th {\n",
       "        vertical-align: top;\n",
       "    }\n",
       "\n",
       "    .dataframe thead th {\n",
       "        text-align: right;\n",
       "    }\n",
       "</style>\n",
       "<table border=\"1\" class=\"dataframe\">\n",
       "  <thead>\n",
       "    <tr style=\"text-align: right;\">\n",
       "      <th></th>\n",
       "      <th>day_icon</th>\n",
       "      <th>night_icon</th>\n",
       "      <th>description</th>\n",
       "    </tr>\n",
       "  </thead>\n",
       "  <tbody>\n",
       "    <tr>\n",
       "      <th>0</th>\n",
       "      <td>01d.png</td>\n",
       "      <td>01n.png</td>\n",
       "      <td>clear sky</td>\n",
       "    </tr>\n",
       "    <tr>\n",
       "      <th>1</th>\n",
       "      <td>02d.png</td>\n",
       "      <td>02n.png</td>\n",
       "      <td>few clouds</td>\n",
       "    </tr>\n",
       "    <tr>\n",
       "      <th>...</th>\n",
       "      <td>...</td>\n",
       "      <td>...</td>\n",
       "      <td>...</td>\n",
       "    </tr>\n",
       "    <tr>\n",
       "      <th>7</th>\n",
       "      <td>13d.png</td>\n",
       "      <td>13n.png</td>\n",
       "      <td>snow</td>\n",
       "    </tr>\n",
       "    <tr>\n",
       "      <th>8</th>\n",
       "      <td>50d.png</td>\n",
       "      <td>50n.png</td>\n",
       "      <td>mist</td>\n",
       "    </tr>\n",
       "  </tbody>\n",
       "</table>\n",
       "<p>9 rows × 3 columns</p>\n",
       "</div>"
      ],
      "text/plain": [
       "   day_icon night_icon description\n",
       "0   01d.png    01n.png   clear sky\n",
       "1   02d.png    02n.png  few clouds\n",
       "..      ...        ...         ...\n",
       "7   13d.png    13n.png        snow\n",
       "8   50d.png    50n.png        mist\n",
       "\n",
       "[9 rows x 3 columns]"
      ]
     },
     "execution_count": 21,
     "metadata": {},
     "output_type": "execute_result"
    }
   ],
   "source": [
    "# Define data frame\n",
    "\n",
    "soup = bs4.BeautifulSoup(req.text, 'html.parser')\n",
    "table = soup.find_all('table')[0]\n",
    "\n",
    "headers = table.find_all('th')\n",
    "for i in range(len(headers)):\n",
    "    headers[i] = headers[i].text.strip() \n",
    "\n",
    "rows = table.find_all('tr')\n",
    "for i in range(len(rows)):\n",
    "    rows[i] = rows[i].find_all('td')\n",
    "    for j in range(len(rows[i])):\n",
    "        rows[i][j]=rows[i][j].text.strip()\n",
    "        \n",
    "\n",
    "weather_icons=pd.DataFrame(rows[1:], columns=['day_icon', 'night_icon', 'description'])\n",
    "weather_icons\n",
    "\n"
   ]
  },
  {
   "cell_type": "code",
   "execution_count": 22,
   "metadata": {},
   "outputs": [],
   "source": [
    "# Saving the table\n",
    "file_path =  os.getcwd() + '/../cleaned_data/weather_icons.csv'\n",
    "weather_icons.to_csv(file_path, index=False)"
   ]
  },
  {
   "cell_type": "code",
   "execution_count": 23,
   "metadata": {},
   "outputs": [
    {
     "name": "stdout",
     "output_type": "stream",
     "text": [
      "Folder already exists.\n"
     ]
    }
   ],
   "source": [
    "# save images \n",
    "img_dir =  os.getcwd() + '\\\\..\\\\img\\\\'\n",
    "\n",
    "if not os.path.exists(img_dir):\n",
    "    os.mkdir(img_dir)\n",
    "    print(\"Folder created successfully!\")\n",
    "else:\n",
    "    print(\"Folder already exists.\")\n",
    "\n",
    "images = table.find_all('img')\n",
    "names=[]\n",
    "for image in images:\n",
    "    image_url=image.get('src')\n",
    "       \n",
    "    response = requests.get(image_url)\n",
    "    img_data = response.content \n",
    "\n",
    "    name =  image_url.rsplit('/',1)[-1]\n",
    "    name = name[:3]\n",
    "\n",
    "    img = Image.open(io.BytesIO(img_data))\n",
    "    img.save(img_dir+ name+'.png')\n",
    "    \n",
    "\n"
   ]
  },
  {
   "cell_type": "code",
   "execution_count": null,
   "metadata": {},
   "outputs": [],
   "source": [
    "# Database Connection: We use sql server with a trusted connection and weather as database name\n",
    "engine = create_engine('mssql+pyodbc://SERVER_NAME/weather?trusted_connection=yes&driver=ODBC+Driver+17+for+SQL+Server')\n",
    "\n"
   ]
  },
  {
   "cell_type": "code",
   "execution_count": null,
   "metadata": {},
   "outputs": [],
   "source": [
    "# Database load\n",
    "weather_icons.to_sql('weather_icons', engine, if_exists='append', index=False)\n"
   ]
  }
 ],
 "metadata": {
  "kernelspec": {
   "display_name": "Python 3",
   "language": "python",
   "name": "python3"
  },
  "language_info": {
   "codemirror_mode": {
    "name": "ipython",
    "version": 3
   },
   "file_extension": ".py",
   "mimetype": "text/x-python",
   "name": "python",
   "nbconvert_exporter": "python",
   "pygments_lexer": "ipython3",
   "version": "3.12.5"
  }
 },
 "nbformat": 4,
 "nbformat_minor": 2
}
